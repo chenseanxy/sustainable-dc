{
 "cells": [
  {
   "cell_type": "code",
   "execution_count": 8,
   "metadata": {},
   "outputs": [
    {
     "name": "stdout",
     "output_type": "stream",
     "text": [
      "Downloading data from 2023-12-01T00:00:00Z to 2023-12-07T23:59:59Z\n",
      "{}\n",
      "Downloading data from 2023-12-08T00:00:00Z to 2023-12-14T23:59:59Z\n",
      "{}\n",
      "Downloading data from 2023-12-15T00:00:00Z to 2023-12-21T23:59:59Z\n",
      "{}\n",
      "Downloading data from 2023-12-22T00:00:00Z to 2023-12-28T23:59:59Z\n",
      "{}\n",
      "Downloading data from 2023-12-29T00:00:00Z to 2023-12-31T23:59:59Z\n",
      "{}\n"
     ]
    }
   ],
   "source": [
    "import datetime as dt\n",
    "from fmiopendata.wfs import download_stored_query\n",
    "import time  # For adding delay between retries\n",
    "\n",
    "start_date = dt.date(2023, 12, 1)  # Example start date\n",
    "end_date = dt.date(2023, 12, 31)\n",
    "\n",
    "data_list = []  # List to collect data\n",
    "\n",
    "current_date = start_date\n",
    "while current_date <= end_date:\n",
    "    # Set the start time to the current date\n",
    "    start_time = current_date.isoformat() + \"T00:00:00Z\"\n",
    "    # Calculate the end time 7 days from the start time\n",
    "    end_date_interval = current_date + dt.timedelta(days=6)\n",
    "    # Make sure the end date does not exceed the overall end date\n",
    "    if end_date_interval > end_date:\n",
    "        end_date_interval = end_date\n",
    "    end_time = end_date_interval.isoformat() + \"T23:59:59Z\"\n",
    "\n",
    "    print(f\"Downloading data from {start_time} to {end_time}\")  # Optional: print statement to track progress\n",
    "\n",
    "    max_retries = 5  # Maximum number of retries for each download attempt\n",
    "    retry_delay = 5  # Delay between retries in seconds\n",
    "\n",
    "    for attempt in range(max_retries):\n",
    "        try:\n",
    "            # Download data for the current 7-day interval\n",
    "            obs = download_stored_query(\"fmi::forecast::harmonie::surface::grid\",\n",
    "                                        args=[\"bbox=18,55,35,75\",  # whole Finland\n",
    "                                              \"starttime=\" + start_time,\n",
    "                                              \"endtime=\" + end_time])\n",
    "            # If download is successful, break out of the retry loop\n",
    "            break\n",
    "        except Exception as e:\n",
    "            print(f\"Attempt {attempt + 1} failed: {e}\")\n",
    "            if attempt < max_retries - 1:\n",
    "                print(f\"Retrying in {retry_delay} seconds...\")\n",
    "                time.sleep(retry_delay)  # Wait before retrying\n",
    "            else:\n",
    "                print(\"Max retries reached, moving to next interval\")\n",
    "                obs = None  # Set obs to None to handle the case where all retries fail\n",
    "\n",
    "    if obs is not None:\n",
    "        # Parse and organize the data only if the download was successful\n",
    "        print(obs.data)\n",
    "        for station, station_data in obs.data.items():\n",
    "            times = station_data['times']\n",
    "            for param, values in station_data.items():\n",
    "                if param != 'times':  # Skip the 'times' key\n",
    "                    for time, value in zip(times, values['values']):\n",
    "                        data_list.append({'Timestamp': time, 'Station': station, param: value})\n",
    "\n",
    "    # Move to the next 7-day interval for the next iteration\n",
    "    current_date += dt.timedelta(days=7)  # Fixed to add 7 instead of 6 to avoid overlapping dates\n"
   ]
  },
  {
   "cell_type": "code",
   "execution_count": 4,
   "metadata": {},
   "outputs": [
    {
     "data": {
      "text/plain": [
       "[]"
      ]
     },
     "execution_count": 4,
     "metadata": {},
     "output_type": "execute_result"
    }
   ],
   "source": [
    "data_list"
   ]
  }
 ],
 "metadata": {
  "kernelspec": {
   "display_name": "sustainable-dc-NRizsKjF-py3.9",
   "language": "python",
   "name": "python3"
  },
  "language_info": {
   "codemirror_mode": {
    "name": "ipython",
    "version": 3
   },
   "file_extension": ".py",
   "mimetype": "text/x-python",
   "name": "python",
   "nbconvert_exporter": "python",
   "pygments_lexer": "ipython3",
   "version": "3.9.13"
  }
 },
 "nbformat": 4,
 "nbformat_minor": 2
}
